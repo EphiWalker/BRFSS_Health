{
  "nbformat": 4,
  "nbformat_minor": 0,
  "metadata": {
    "colab": {
      "provenance": [],
      "authorship_tag": "ABX9TyOKiq/55IWyJcTMPUfwU/Qw",
      "include_colab_link": true
    },
    "kernelspec": {
      "name": "python3",
      "display_name": "Python 3"
    },
    "language_info": {
      "name": "python"
    }
  },
  "cells": [
    {
      "cell_type": "markdown",
      "metadata": {
        "id": "view-in-github",
        "colab_type": "text"
      },
      "source": [
        "<a href=\"https://colab.research.google.com/github/EphiWalker/melbourne_anlalysis/blob/main/Chapter_1%262_(Openintro).ipynb\" target=\"_parent\"><img src=\"https://colab.research.google.com/assets/colab-badge.svg\" alt=\"Open In Colab\"/></a>"
      ]
    },
    {
      "cell_type": "code",
      "execution_count": null,
      "metadata": {
        "id": "pd-2pdBnYRcY"
      },
      "outputs": [],
      "source": [
        "import warnings\n",
        "warnings.filterwarnings('ignore')\n",
        "\n",
        "import numpy as np\n",
        "import pandas as pd\n",
        "import io\n",
        "import requests\n",
        "\n",
        "df_url = 'https://raw.githubusercontent.com/akmand/datasets/master/openintro/brfss_2000.csv'\n",
        "url_content = requests.get(df_url, verify=False).content\n",
        "cdc = pd.read_csv(io.StringIO(url_content.decode('utf-8')))\n",
        "cdc.shape"
      ]
    },
    {
      "cell_type": "code",
      "source": [
        "cdc.sample(10, random_state=999)"
      ],
      "metadata": {
        "id": "pHc3_81lZYIN"
      },
      "execution_count": null,
      "outputs": []
    },
    {
      "cell_type": "code",
      "source": [
        "cdc.columns.values"
      ],
      "metadata": {
        "id": "ipqaBKxDZmtN"
      },
      "execution_count": null,
      "outputs": []
    },
    {
      "cell_type": "code",
      "source": [
        "cdc.head()"
      ],
      "metadata": {
        "id": "GGwjXpUFZ1Tg"
      },
      "execution_count": null,
      "outputs": []
    },
    {
      "cell_type": "code",
      "source": [
        "cdc.tail()"
      ],
      "metadata": {
        "id": "E6LlBrpQax-d"
      },
      "execution_count": null,
      "outputs": []
    },
    {
      "cell_type": "code",
      "source": [
        "cdc.dtypes"
      ],
      "metadata": {
        "id": "LRWlG7l4aziU"
      },
      "execution_count": null,
      "outputs": []
    },
    {
      "cell_type": "code",
      "source": [
        "cdc.describe()"
      ],
      "metadata": {
        "id": "Sk0rrACjeYhw"
      },
      "execution_count": null,
      "outputs": []
    },
    {
      "cell_type": "code",
      "source": [
        "cdc['weight'].describe()"
      ],
      "metadata": {
        "id": "tm3fp4R1e2xc"
      },
      "execution_count": null,
      "outputs": []
    },
    {
      "cell_type": "code",
      "source": [
        "190-140"
      ],
      "metadata": {
        "id": "cip-yZV-fIYa"
      },
      "execution_count": null,
      "outputs": []
    },
    {
      "cell_type": "code",
      "source": [
        "cdc['smoke100'].value_counts()"
      ],
      "metadata": {
        "id": "7NrxhWQugORV"
      },
      "execution_count": null,
      "outputs": []
    },
    {
      "cell_type": "code",
      "source": [
        "cdc['smoke100'].value_counts(normalize=True)"
      ],
      "metadata": {
        "id": "kkhQCla8gtpO"
      },
      "execution_count": null,
      "outputs": []
    },
    {
      "cell_type": "code",
      "source": [
        "import matplotlib.pyplot as plt #hi\n",
        "%matplotlib inline"
      ],
      "metadata": {
        "id": "beH3-gMkg3Je"
      },
      "execution_count": null,
      "outputs": []
    },
    {
      "cell_type": "code",
      "source": [
        "%config InlineBackend.figure_format = 'retina'"
      ],
      "metadata": {
        "id": "AAdW78jehPBP"
      },
      "execution_count": null,
      "outputs": []
    },
    {
      "cell_type": "code",
      "source": [
        "plt.style.use('ggplot')"
      ],
      "metadata": {
        "id": "MMKQ9mb2huOX"
      },
      "execution_count": null,
      "outputs": []
    },
    {
      "cell_type": "code",
      "source": [
        "plt.rcParams['figure.figsize']=(10,5)"
      ],
      "metadata": {
        "id": "uDMxlZVoh79y"
      },
      "execution_count": null,
      "outputs": []
    },
    {
      "cell_type": "code",
      "source": [
        "plt.rcParams['font.size']=12"
      ],
      "metadata": {
        "id": "3VSDfrZmiBzx"
      },
      "execution_count": null,
      "outputs": []
    },
    {
      "cell_type": "code",
      "source": [
        "cdc['smoke100'].value_counts().plot(kind = 'bar', color = 'turquoise',\n",
        "                                    title = 'Bar plot of smoke100')\n",
        "#plt.show()"
      ],
      "metadata": {
        "id": "X6eOtn6LiGH7"
      },
      "execution_count": null,
      "outputs": []
    },
    {
      "cell_type": "code",
      "source": [
        "smoke = cdc['smoke100'].value_counts()\n",
        "smoke.plot(kind='bar', color='turquoise',\n",
        "           title='Bar plot of smoke100')"
      ],
      "metadata": {
        "id": "5nedbaC3jrUJ"
      },
      "execution_count": null,
      "outputs": []
    },
    {
      "cell_type": "code",
      "source": [
        "cdc['height'].describe()"
      ],
      "metadata": {
        "id": "m-RcZ2__k3gY"
      },
      "execution_count": null,
      "outputs": []
    },
    {
      "cell_type": "code",
      "source": [
        "70-64"
      ],
      "metadata": {
        "id": "xe3Y4fJ2k_nX"
      },
      "execution_count": null,
      "outputs": []
    },
    {
      "cell_type": "code",
      "source": [
        "cdc['age'].describe()"
      ],
      "metadata": {
        "id": "mKv4IgAElK57"
      },
      "execution_count": null,
      "outputs": []
    },
    {
      "cell_type": "code",
      "source": [
        "57-31"
      ],
      "metadata": {
        "id": "adK_ZliOlQw4"
      },
      "execution_count": null,
      "outputs": []
    },
    {
      "cell_type": "code",
      "source": [
        "cdc['gender'].value_counts(normalize = True)"
      ],
      "metadata": {
        "id": "526W_Rp2lU7V"
      },
      "execution_count": null,
      "outputs": []
    },
    {
      "cell_type": "code",
      "source": [
        "cdc['exerany'].value_counts(normalize=True)"
      ],
      "metadata": {
        "colab": {
          "base_uri": "https://localhost:8080/"
        },
        "id": "bOIO_dmWlcNW",
        "outputId": "471f4900-1120-4b00-c579-200f9db015d4"
      },
      "execution_count": null,
      "outputs": [
        {
          "output_type": "execute_result",
          "data": {
            "text/plain": [
              "1    0.7457\n",
              "0    0.2543\n",
              "Name: exerany, dtype: float64"
            ]
          },
          "metadata": {},
          "execution_count": 172
        }
      ]
    },
    {
      "cell_type": "code",
      "source": [
        "cdc.groupby('gender')['smoke100'].value_counts(normalize=True).unstack()"
      ],
      "metadata": {
        "id": "KLxrlDE_lkIA"
      },
      "execution_count": null,
      "outputs": []
    },
    {
      "cell_type": "code",
      "source": [
        "cdc.groupby('gender')['genhlth'].value_counts(normalize=True).unstack()"
      ],
      "metadata": {
        "id": "MdaNChvtmKPN"
      },
      "execution_count": null,
      "outputs": []
    },
    {
      "cell_type": "code",
      "source": [
        "from statsmodels.graphics.mosaicplot import mosaic\n",
        "\n",
        "gender_colors = lambda key:{'color':'lightcoral' if 'f' in key else 'lightblue'}\n",
        "\n",
        "mosaic(cdc, ['gender', 'smoke100'], title='Mosaic plot of smoke100 and gender',\n",
        "       properties = gender_colors, gap=0.02)"
      ],
      "metadata": {
        "id": "fNQEy6-Ymvb3"
      },
      "execution_count": null,
      "outputs": []
    },
    {
      "cell_type": "code",
      "source": [
        "cdc['height'].plot(kind='box', title = 'Boxplot of height', vert=False)"
      ],
      "metadata": {
        "id": "xEPg44rjnvLf"
      },
      "execution_count": null,
      "outputs": []
    },
    {
      "cell_type": "code",
      "source": [
        "cdc['height'].describe()"
      ],
      "metadata": {
        "id": "kVThH8amoJGA"
      },
      "execution_count": null,
      "outputs": []
    },
    {
      "cell_type": "code",
      "source": [
        "cdc.boxplot(column='height', by='gender', vert=False)\n",
        "plt.title('Boxplot of height by gender')\n",
        "plt.suptitle('')"
      ],
      "metadata": {
        "id": "Xx2hxAxZo6rb"
      },
      "execution_count": null,
      "outputs": []
    },
    {
      "cell_type": "code",
      "source": [
        "bmi = (cdc['weight'] / (cdc['height']**2)*703)"
      ],
      "metadata": {
        "id": "sbNI_zVUsr7U"
      },
      "execution_count": null,
      "outputs": []
    },
    {
      "cell_type": "code",
      "source": [
        "import seaborn as sns\n",
        "\n",
        "sns.boxplot(x=cdc['genhlth'], y=bmi).set(xlabel='genhlth', ylabel='bmi',\n",
        "                                         title = 'Boxplot of BMI by genhlth')"
      ],
      "metadata": {
        "id": "6GMiS5_YtuWg"
      },
      "execution_count": null,
      "outputs": []
    },
    {
      "cell_type": "code",
      "source": [
        "cdc.columns"
      ],
      "metadata": {
        "id": "O3iP5Wn7uCZk"
      },
      "execution_count": null,
      "outputs": []
    },
    {
      "cell_type": "code",
      "source": [
        "sns.boxplot(x=cdc['exerany'], y=bmi).set(xlabel='exerany', ylabel='bmi',\n",
        "                                         title = 'Box plot of exerany and bmi')"
      ],
      "metadata": {
        "id": "Ke0qe1kRurn7"
      },
      "execution_count": null,
      "outputs": []
    },
    {
      "cell_type": "code",
      "source": [
        "cdc['age'].plot(kind='hist', color='springgreen', edgecolor='black',\n",
        "                linewidth=1.2, title = 'Histogram of age')"
      ],
      "metadata": {
        "id": "dpapd4rfwuqa"
      },
      "execution_count": null,
      "outputs": []
    },
    {
      "cell_type": "code",
      "source": [
        "bmi.plot(kind='hist', color='slateblue', edgecolor='black',\n",
        "         linewidth=1.2, title='Histogram of BMI')\n",
        "plt.show()\n",
        "\n",
        "bmi.plot(kind='hist', color='gold', edgecolor='black',linewidth=1.2,\n",
        "         title='Histogram of BMI (with the bin size of 50)', bins=50)\n",
        "plt.show()"
      ],
      "metadata": {
        "id": "gz2m8MX1xRXM"
      },
      "execution_count": null,
      "outputs": []
    },
    {
      "cell_type": "code",
      "source": [
        "sns.scatterplot(x=cdc['weight'], y=cdc['wtdesire'])"
      ],
      "metadata": {
        "id": "VZtuT43kxzj5"
      },
      "execution_count": null,
      "outputs": []
    },
    {
      "cell_type": "code",
      "source": [
        "wdiff=cdc['wtdesire']-cdc['weight']"
      ],
      "metadata": {
        "id": "nAJD9R8bzHRQ"
      },
      "execution_count": null,
      "outputs": []
    },
    {
      "cell_type": "code",
      "source": [
        "wdiff"
      ],
      "metadata": {
        "id": "vHEsLux5z8bo"
      },
      "execution_count": null,
      "outputs": []
    },
    {
      "cell_type": "code",
      "source": [
        "wdiff.describe()"
      ],
      "metadata": {
        "id": "3qCY1REgz_56"
      },
      "execution_count": null,
      "outputs": []
    },
    {
      "cell_type": "code",
      "source": [
        "cdc[wdiff==500]"
      ],
      "metadata": {
        "id": "Lt2-Nr9Y0Tlt"
      },
      "execution_count": null,
      "outputs": []
    },
    {
      "cell_type": "code",
      "source": [
        "wdiff.plot(kind='hist', bins=100, color='cyan')"
      ],
      "metadata": {
        "id": "qi8bebwN05H2"
      },
      "execution_count": null,
      "outputs": []
    },
    {
      "cell_type": "code",
      "source": [
        "wdiff.plot(kind='box', vert=False)"
      ],
      "metadata": {
        "id": "zZvZwmlg1Imj"
      },
      "execution_count": null,
      "outputs": []
    },
    {
      "cell_type": "code",
      "source": [
        "wdiff[cdc['gender']=='m'].median()"
      ],
      "metadata": {
        "id": "edGpOl3h1ddD"
      },
      "execution_count": null,
      "outputs": []
    },
    {
      "cell_type": "code",
      "source": [
        "wdiff[cdc['gender']=='f'].median()"
      ],
      "metadata": {
        "id": "w_a8T2Dt2YrV"
      },
      "execution_count": null,
      "outputs": []
    },
    {
      "cell_type": "code",
      "source": [
        "sns.boxplot(x=cdc['gender'], y=wdiff).set(xlabel='gender', ylabel='wdiff',\n",
        "                                          title='Boxplots by wdiff')"
      ],
      "metadata": {
        "id": "2ZxyuZs_20-7"
      },
      "execution_count": null,
      "outputs": []
    },
    {
      "cell_type": "code",
      "source": [
        "mean_weight=cdc['weight'].mean()"
      ],
      "metadata": {
        "id": "14k3cQYP3ISl"
      },
      "execution_count": null,
      "outputs": []
    },
    {
      "cell_type": "code",
      "source": [
        "cdc['weight'].std()"
      ],
      "metadata": {
        "id": "j8bpluPb376l"
      },
      "execution_count": null,
      "outputs": []
    },
    {
      "cell_type": "code",
      "source": [
        "(abs(cdc['weight']-mean_weight)<=1).value_counts(normalize=True)"
      ],
      "metadata": {
        "colab": {
          "base_uri": "https://localhost:8080/"
        },
        "id": "QhcfmAVA4GiC",
        "outputId": "a1dce9ed-923d-4f2c-89db-d3957e5bd547"
      },
      "execution_count": null,
      "outputs": [
        {
          "output_type": "execute_result",
          "data": {
            "text/plain": [
              "False    0.9525\n",
              "True     0.0475\n",
              "Name: weight, dtype: float64"
            ]
          },
          "metadata": {},
          "execution_count": 186
        }
      ]
    }
  ]
}